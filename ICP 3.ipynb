{
 "cells": [
  {
   "cell_type": "code",
   "execution_count": 4,
   "id": "51d30c5a",
   "metadata": {},
   "outputs": [
    {
     "name": "stdout",
     "output_type": "stream",
     "text": [
      "Few benefits as full time employee.\n",
      "Average salary: 149500.0\n"
     ]
    }
   ],
   "source": [
    "class Employee:\n",
    "    \"\"\"\n",
    "    Generic Employee class with name, family, salary and department\n",
    "    \"\"\"\n",
    "\n",
    "    # data member to count the number of Employees\n",
    "    no_of_employees = 0\n",
    "\n",
    "    def __init__(self, name, family_name, salary, department):\n",
    "        self.__name = name\n",
    "        self.__family_name = family_name\n",
    "        self.salary = salary\n",
    "        self.__department = department\n",
    "        Employee.no_of_employees += 1\n",
    "\n",
    "    @staticmethod\n",
    "    def average_salary(employees):\n",
    "        \"\"\"\n",
    "        function to average salary\n",
    "        \"\"\"\n",
    "        sum = 0\n",
    "        for employee in employees:\n",
    "            sum += employee.salary\n",
    "        return sum / Employee.no_of_employees\n",
    "\n",
    "\n",
    "class FulltimeEmployee(Employee):\n",
    "    \"\"\"\n",
    "    Full Time Employee is a sub class of Employee\n",
    "    \"\"\"\n",
    "\n",
    "    def __init__(self, name, family_name, salary, department):\n",
    "        super().__init__(name, family_name, salary, department)\n",
    "\n",
    "    def full_time_benefits(self):\n",
    "        print(\"Few benefits as full time employee.\")\n",
    "\n",
    "\n",
    "def main():\n",
    "    employees = []\n",
    "    fte1 = FulltimeEmployee(\"Employee1\", \"FamilyName1\", 240000, \"Management\")\n",
    "    fte1.full_time_benefits()\n",
    "    employees.append(fte1)\n",
    "    fte2 = FulltimeEmployee(\"Employee2\", \"FamilyName2\", 180000, \"RnD\")\n",
    "    employees.append(fte2)\n",
    "    emp1 = Employee(\"Employee3\", \"FamilyName3\", 200000, \"Marketing\")\n",
    "    employees.append(emp1)\n",
    "    emp2 = Employee(\"Employee4\", \"FamilyName4\", 140000, \"HR\")\n",
    "    employees.append(emp2)\n",
    "    print(\"Average salary:\", FulltimeEmployee.average_salary(employees))\n",
    "\n",
    "\n",
    "if __name__ == \"__main__\":\n",
    "    main()"
   ]
  },
  {
   "cell_type": "code",
   "execution_count": 18,
   "id": "bc4ffe19",
   "metadata": {},
   "outputs": [
    {
     "name": "stdout",
     "output_type": "stream",
     "text": [
      "Original array:\n",
      "[0.74548858 0.20015432 0.75297008 0.66967112 0.95540487 0.69223403\n",
      " 0.72256489 0.8173398  0.05603809 0.71836922 0.9604104  0.47474998\n",
      " 0.29276546 0.62553746 0.43729799]\n",
      "Maximum value replaced by 4:\n",
      "[ 0.74548858  0.20015432  0.75297008  0.66967112  0.95540487  0.69223403\n",
      "  0.72256489  0.8173398   0.05603809  0.71836922 -1.          0.47474998\n",
      "  0.29276546  0.62553746  0.43729799]\n"
     ]
    }
   ],
   "source": [
    "import numpy as np\n",
    "x = np.random.random(15)\n",
    "print(\"Original array:\")\n",
    "print(x)\n",
    "x[x.argmax()] = -1\n",
    "print(\"Maximum value replaced by 4:\")\n",
    "print(x)\n"
   ]
  },
  {
   "cell_type": "code",
   "execution_count": null,
   "id": "de94379b",
   "metadata": {},
   "outputs": [],
   "source": [
    "\n"
   ]
  },
  {
   "cell_type": "code",
   "execution_count": null,
   "id": "1a4dbdfc",
   "metadata": {},
   "outputs": [],
   "source": []
  }
 ],
 "metadata": {
  "kernelspec": {
   "display_name": "Python 3 (ipykernel)",
   "language": "python",
   "name": "python3"
  },
  "language_info": {
   "codemirror_mode": {
    "name": "ipython",
    "version": 3
   },
   "file_extension": ".py",
   "mimetype": "text/x-python",
   "name": "python",
   "nbconvert_exporter": "python",
   "pygments_lexer": "ipython3",
   "version": "3.9.13"
  }
 },
 "nbformat": 4,
 "nbformat_minor": 5
}
